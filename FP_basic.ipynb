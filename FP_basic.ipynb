{
  "nbformat": 4,
  "nbformat_minor": 0,
  "metadata": {
    "colab": {
      "name": "FP_basic.ipynb",
      "provenance": [],
      "authorship_tag": "ABX9TyNwj+mKrqLHlWP8uhy2uZqf",
      "include_colab_link": true
    },
    "kernelspec": {
      "name": "python3",
      "display_name": "Python 3"
    },
    "language_info": {
      "name": "python"
    }
  },
  "cells": [
    {
      "cell_type": "markdown",
      "metadata": {
        "id": "view-in-github",
        "colab_type": "text"
      },
      "source": [
        "<a href=\"https://colab.research.google.com/github/xinyi-li7/Floating-point/blob/main/FP_basic.ipynb\" target=\"_parent\"><img src=\"https://colab.research.google.com/assets/colab-badge.svg\" alt=\"Open In Colab\"/></a>"
      ]
    },
    {
      "cell_type": "markdown",
      "metadata": {
        "id": "WFJ5iQGuXdba"
      },
      "source": [
        "## Calculate the rounding error for a real number.\n",
        "Example: The one quadrillion round error. From Section 2 for [Herbie](http://herbie.uwplse.org/pldi15-paper.pdf). "
      ]
    },
    {
      "cell_type": "code",
      "metadata": {
        "id": "W-xmg61oX8iM"
      },
      "source": [
        "import numpy as np\n",
        "x = 10**15 # one quadrillion\n",
        "x_b = np.floor(np.log2(x)) # exponent of binary\n",
        "p = 52 # number of digits in mantissa for double\n",
        "ulp = 2 **(x_b-p) # ulp(x_b, p)"
      ],
      "execution_count": null,
      "outputs": []
    },
    {
      "cell_type": "markdown",
      "metadata": {
        "id": "SExzKUm9p1Et"
      },
      "source": [
        "## Error caused by simple operations"
      ]
    },
    {
      "cell_type": "code",
      "metadata": {
        "id": "6dazIqI0pKDp",
        "outputId": "c577cf13-658d-48e6-abcf-8202c9792dec",
        "colab": {
          "base_uri": "https://localhost:8080/"
        }
      },
      "source": [
        "x = 40012243234534545454575792.1416546546\n",
        "(x+1)-x"
      ],
      "execution_count": 9,
      "outputs": [
        {
          "output_type": "execute_result",
          "data": {
            "text/plain": [
              "0.0"
            ]
          },
          "metadata": {
            "tags": []
          },
          "execution_count": 9
        }
      ]
    },
    {
      "cell_type": "code",
      "metadata": {
        "id": "86x0FK4mpULI",
        "outputId": "f6deeb11-dc9c-4961-dc87-2f3a60e455a6",
        "colab": {
          "base_uri": "https://localhost:8080/"
        }
      },
      "source": [
        "x-x+1"
      ],
      "execution_count": 10,
      "outputs": [
        {
          "output_type": "execute_result",
          "data": {
            "text/plain": [
              "1.0"
            ]
          },
          "metadata": {
            "tags": []
          },
          "execution_count": 10
        }
      ]
    },
    {
      "cell_type": "code",
      "metadata": {
        "id": "SMbKf6zopVuX",
        "outputId": "14240bc2-c713-4077-abb5-8e354d1efbfc",
        "colab": {
          "base_uri": "https://localhost:8080/"
        }
      },
      "source": [
        ""
      ],
      "execution_count": 7,
      "outputs": [
        {
          "output_type": "execute_result",
          "data": {
            "text/plain": [
              "0.0"
            ]
          },
          "metadata": {
            "tags": []
          },
          "execution_count": 7
        }
      ]
    },
    {
      "cell_type": "code",
      "metadata": {
        "id": "V6TIAIDzpYcH"
      },
      "source": [
        ""
      ],
      "execution_count": null,
      "outputs": []
    }
  ]
}