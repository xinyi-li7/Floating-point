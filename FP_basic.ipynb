{
  "nbformat": 4,
  "nbformat_minor": 0,
  "metadata": {
    "colab": {
      "name": "FP_basic.ipynb",
      "provenance": [],
      "include_colab_link": true
    },
    "kernelspec": {
      "name": "python3",
      "display_name": "Python 3"
    },
    "language_info": {
      "name": "python"
    }
  },
  "cells": [
    {
      "cell_type": "markdown",
      "metadata": {
        "id": "view-in-github",
        "colab_type": "text"
      },
      "source": [
        "<a href=\"https://colab.research.google.com/github/xinyi-li7/Floating-point/blob/main/FP_basic.ipynb\" target=\"_parent\"><img src=\"https://colab.research.google.com/assets/colab-badge.svg\" alt=\"Open In Colab\"/></a>"
      ]
    },
    {
      "cell_type": "markdown",
      "metadata": {
        "id": "WFJ5iQGuXdba"
      },
      "source": [
        "## Calculate the ulp (rounding error **bounds**) for a real number.\n",
        "Example: The one quadrillion round error. From Section 2 for [Herbie](http://herbie.uwplse.org/pldi15-paper.pdf). "
      ]
    },
    {
      "cell_type": "code",
      "metadata": {
        "id": "W-xmg61oX8iM",
        "colab": {
          "base_uri": "https://localhost:8080/"
        },
        "outputId": "370d8829-3535-4a2d-ed29-fe4ad30dbf99"
      },
      "source": [
        "import numpy as np\n",
        "x = 10**15 # one quadrillion\n",
        "x_b = np.floor(np.log2(x)) # exponent of binary\n",
        "p = 52 # number of digits in mantissa for double\n",
        "ulp = 2 **(x_b-p) # ulp(x_b, p)\n",
        "ulp"
      ],
      "execution_count": null,
      "outputs": [
        {
          "output_type": "execute_result",
          "data": {
            "text/plain": [
              "0.125"
            ]
          },
          "metadata": {
            "tags": []
          },
          "execution_count": 2
        }
      ]
    },
    {
      "cell_type": "markdown",
      "metadata": {
        "id": "SExzKUm9p1Et"
      },
      "source": [
        "## Error caused by simple operations"
      ]
    },
    {
      "cell_type": "code",
      "metadata": {
        "id": "6dazIqI0pKDp",
        "colab": {
          "base_uri": "https://localhost:8080/"
        },
        "outputId": "c577cf13-658d-48e6-abcf-8202c9792dec"
      },
      "source": [
        "x = 40012243234534545454575792.1416546546\n",
        "(x+1)-x"
      ],
      "execution_count": null,
      "outputs": [
        {
          "output_type": "execute_result",
          "data": {
            "text/plain": [
              "0.0"
            ]
          },
          "metadata": {
            "tags": []
          },
          "execution_count": 9
        }
      ]
    },
    {
      "cell_type": "markdown",
      "metadata": {
        "id": "ORig_KzMmoV1"
      },
      "source": [
        "## The IEEE binary representation for decimal\n",
        "An [example](http://class.ece.iastate.edu/arun/Cpre305/ieee754/ie4.html)"
      ]
    },
    {
      "cell_type": "code",
      "metadata": {
        "id": "Qn0Rf0WZEBRt"
      },
      "source": [
        "def dec2IEEE(num):\n",
        "  exponent = np.floor(np.log2(num)) # exponent for the binary representation\n",
        "  mantissa = num / (2**exponent) \n",
        "  return exponent, mantissa"
      ],
      "execution_count": 8,
      "outputs": []
    },
    {
      "cell_type": "markdown",
      "metadata": {
        "id": "sIC3xDRcDLSt"
      },
      "source": [
        "Transfer the exponent and mantissa to binary will result in the IEEE binary representation. \n",
        "\n"
      ]
    },
    {
      "cell_type": "markdown",
      "metadata": {
        "id": "AtVRBGhzECe7"
      },
      "source": [
        "## How addition ruin the result\n",
        "set `p` as the number of bits for mantissa"
      ]
    },
    {
      "cell_type": "code",
      "metadata": {
        "id": "86x0FK4mpULI"
      },
      "source": [
        "import numpy as np\n",
        "k_53 = 53\n",
        "k_51 = 51\n",
        "p = 52 # Here just the bits used for mantissa"
      ],
      "execution_count": null,
      "outputs": []
    },
    {
      "cell_type": "code",
      "metadata": {
        "id": "SMbKf6zopVuX",
        "colab": {
          "base_uri": "https://localhost:8080/"
        },
        "outputId": "f52943ca-a266-4f29-bc1a-0910f7701d30"
      },
      "source": [
        "x = 1/2\n",
        "num_53 = (x)**k_53\n",
        "num_51 = (x)**k_51\n",
        "num_p = (x)**p\n",
        "print(\"num_53 = \", num_53)\n",
        "print(\"num_51 = \", num_51)\n",
        "print(\"num_p = \", num_p)\n"
      ],
      "execution_count": null,
      "outputs": [
        {
          "output_type": "stream",
          "text": [
            "num_53 =  1.1102230246251565e-16\n",
            "num_51 =  4.440892098500626e-16\n",
            "num_p =  2.220446049250313e-16\n"
          ],
          "name": "stdout"
        }
      ]
    },
    {
      "cell_type": "code",
      "metadata": {
        "id": "dC-qxhNdDY1k",
        "colab": {
          "base_uri": "https://localhost:8080/"
        },
        "outputId": "af1cfc17-ad42-4f4a-9f29-2d9605e99377"
      },
      "source": [
        "print(\"num_53 + 1 = \", num_53+1)\n",
        "print(\"num_51 + 1 = \", num_51+1)\n",
        "print(\"num_p+1 = \", num_p+1)"
      ],
      "execution_count": null,
      "outputs": [
        {
          "output_type": "stream",
          "text": [
            "num_53 + 1 =  1.0\n",
            "num_51 + 1 =  1.0000000000000004\n",
            "num_p+1 =  1.0000000000000002\n"
          ],
          "name": "stdout"
        }
      ]
    },
    {
      "cell_type": "markdown",
      "metadata": {
        "id": "U55XhFeZGe_O"
      },
      "source": [
        "The problem here is: if the exponent is larger than `p=52`, after adding 1, `num` will disapper. This caused by the ***alignment of exponent*** when adding two binary values. "
      ]
    },
    {
      "cell_type": "markdown",
      "metadata": {
        "id": "yt7_D49ThNA1"
      },
      "source": [
        "## STOKE's definition for error"
      ]
    },
    {
      "cell_type": "code",
      "metadata": {
        "id": "3SyNZ7hstjf_"
      },
      "source": [
        "def BinaryToDecimal(binary): \n",
        "    decimal = 0\n",
        "    exp = 1\n",
        "    for digit in binary: \n",
        "      decimal = decimal + (1/2)**exp*int(digit)\n",
        "      exp = exp+1\n",
        "      print(decimal)\n",
        "    print(\"The decimal value is:\", decimal)"
      ],
      "execution_count": 57,
      "outputs": []
    },
    {
      "cell_type": "code",
      "metadata": {
        "id": "tSIar42FuVMb"
      },
      "source": [
        "def BinaryToDecimal(binary): \n",
        "    decimal = 0\n",
        "    exp = 1\n",
        "    for digit in binary: \n",
        "      decimal = decimal + (1/2)**exp*int(digit)\n",
        "      exp = exp+1\n",
        "      print(decimal)\n",
        "    print(\"The decimal value is:\", decimal)"
      ],
      "execution_count": null,
      "outputs": []
    },
    {
      "cell_type": "code",
      "metadata": {
        "id": "zqzlyWGsuxWB"
      },
      "source": [
        "# Python program to convert float\n",
        "# decimal to binary number\n",
        "  \n",
        "# Function returns octal representation\n",
        "def DecimalToBinary(number, places = 3):\n",
        "  \n",
        "    # split() seperates whole number and decimal \n",
        "    # part and stores it in two seperate variables\n",
        "    whole, dec = str(number).split(\".\")\n",
        "  \n",
        "    # Convert both whole number and decimal  \n",
        "    # part from string type to integer type\n",
        "    whole = int(whole)\n",
        "    dec = int (dec)\n",
        "  \n",
        "    # Convert the whole number part to it's\n",
        "    # respective binary form and remove the\n",
        "    # \"0b\" from it.\n",
        "    res = bin(whole).lstrip(\"0b\") + \".\"\n",
        "  \n",
        "    # Iterate the number of times, we want\n",
        "    # the number of decimal places to be\n",
        "    for x in range(places):\n",
        "  \n",
        "        # Multiply the decimal value by 2 \n",
        "        # and seperate the whole number part\n",
        "        # and decimal part\n",
        "        whole, dec = str((decimal_converter(dec)) * 2).split(\".\")\n",
        "  \n",
        "        # Convert the decimal part\n",
        "        # to integer again\n",
        "        dec = int(dec)\n",
        "  \n",
        "        # Keep adding the integer parts \n",
        "        # receive to the result variable\n",
        "        res += whole\n",
        "  \n",
        "    return res\n",
        "  \n",
        "# Function converts the value passed as\n",
        "# parameter to it's decimal representation\n",
        "def decimal_converter(num): \n",
        "    while num > 1:\n",
        "        num /= 10\n",
        "    return num\n",
        "  "
      ],
      "execution_count": 78,
      "outputs": []
    },
    {
      "cell_type": "code",
      "metadata": {
        "id": "kIZeL3ZZHk2U"
      },
      "source": [
        "import numpy as np\n",
        "x = 1/3\n",
        "x_exp, x_man = dec2IEEE(x)"
      ],
      "execution_count": 64,
      "outputs": []
    },
    {
      "cell_type": "markdown",
      "metadata": {
        "id": "nOeli3CJkFdY"
      },
      "source": [
        "binary representation for single"
      ]
    },
    {
      "cell_type": "code",
      "metadata": {
        "id": "rIoI6yIvheA0"
      },
      "source": [
        "single_exp = DecimalToBinary(np.abs(x_exp),places=0)\n",
        "single_man = DecimalToBinary(x_man-1, places=23)"
      ],
      "execution_count": 83,
      "outputs": []
    },
    {
      "cell_type": "code",
      "metadata": {
        "id": "PHhnOWW8ynDM",
        "outputId": "de8f4eb4-bad5-4cfb-9871-2e2c12180d45",
        "colab": {
          "base_uri": "https://localhost:8080/",
          "height": 35
        }
      },
      "source": [
        "single_man"
      ],
      "execution_count": 84,
      "outputs": [
        {
          "output_type": "execute_result",
          "data": {
            "application/vnd.google.colaboratory.intrinsic+json": {
              "type": "string"
            },
            "text/plain": [
              "'.01010101010101010101010'"
            ]
          },
          "metadata": {
            "tags": []
          },
          "execution_count": 84
        }
      ]
    },
    {
      "cell_type": "markdown",
      "metadata": {
        "id": "1RUahC6bkRyk"
      },
      "source": [
        "binary representation for double"
      ]
    },
    {
      "cell_type": "code",
      "metadata": {
        "id": "lhkFjm2XiDta"
      },
      "source": [
        "double_exp = np.binary_repr(x_exp,width=11)\n",
        "double_man = np.binary_repr((x_man-1), width=52)"
      ],
      "execution_count": null,
      "outputs": []
    },
    {
      "cell_type": "code",
      "metadata": {
        "id": "TT6OXVlul6jF",
        "outputId": "757a87ad-9e8b-4ff0-9f83-8c11dd358032",
        "colab": {
          "base_uri": "https://localhost:8080/",
          "height": 283
        }
      },
      "source": [
        ""
      ],
      "execution_count": 73,
      "outputs": [
        {
          "output_type": "error",
          "ename": "TypeError",
          "evalue": "ignored",
          "traceback": [
            "\u001b[0;31m---------------------------------------------------------------------------\u001b[0m",
            "\u001b[0;31mTypeError\u001b[0m                                 Traceback (most recent call last)",
            "\u001b[0;32m<ipython-input-73-1c5f40a49d9e>\u001b[0m in \u001b[0;36m<module>\u001b[0;34m()\u001b[0m\n\u001b[0;32m----> 1\u001b[0;31m \u001b[0mdouble_man\u001b[0m \u001b[0;34m=\u001b[0m \u001b[0mnp\u001b[0m\u001b[0;34m.\u001b[0m\u001b[0mbinary_repr\u001b[0m\u001b[0;34m(\u001b[0m\u001b[0;34m(\u001b[0m\u001b[0mx_man\u001b[0m\u001b[0;34m-\u001b[0m\u001b[0;36m1\u001b[0m\u001b[0;34m)\u001b[0m\u001b[0;34m,\u001b[0m \u001b[0mwidth\u001b[0m\u001b[0;34m=\u001b[0m\u001b[0;36m52\u001b[0m\u001b[0;34m)\u001b[0m\u001b[0;34m\u001b[0m\u001b[0;34m\u001b[0m\u001b[0m\n\u001b[0m",
            "\u001b[0;32m/usr/local/lib/python3.7/dist-packages/numpy/core/numeric.py\u001b[0m in \u001b[0;36mbinary_repr\u001b[0;34m(num, width)\u001b[0m\n\u001b[1;32m   1976\u001b[0m     \u001b[0;31m# Ensure that num is a Python integer to avoid overflow or unwanted\u001b[0m\u001b[0;34m\u001b[0m\u001b[0;34m\u001b[0m\u001b[0;34m\u001b[0m\u001b[0m\n\u001b[1;32m   1977\u001b[0m     \u001b[0;31m# casts to floating point.\u001b[0m\u001b[0;34m\u001b[0m\u001b[0;34m\u001b[0m\u001b[0;34m\u001b[0m\u001b[0m\n\u001b[0;32m-> 1978\u001b[0;31m     \u001b[0mnum\u001b[0m \u001b[0;34m=\u001b[0m \u001b[0moperator\u001b[0m\u001b[0;34m.\u001b[0m\u001b[0mindex\u001b[0m\u001b[0;34m(\u001b[0m\u001b[0mnum\u001b[0m\u001b[0;34m)\u001b[0m\u001b[0;34m\u001b[0m\u001b[0;34m\u001b[0m\u001b[0m\n\u001b[0m\u001b[1;32m   1979\u001b[0m \u001b[0;34m\u001b[0m\u001b[0m\n\u001b[1;32m   1980\u001b[0m     \u001b[0;32mif\u001b[0m \u001b[0mnum\u001b[0m \u001b[0;34m==\u001b[0m \u001b[0;36m0\u001b[0m\u001b[0;34m:\u001b[0m\u001b[0;34m\u001b[0m\u001b[0;34m\u001b[0m\u001b[0m\n",
            "\u001b[0;31mTypeError\u001b[0m: 'numpy.float64' object cannot be interpreted as an integer"
          ]
        }
      ]
    },
    {
      "cell_type": "code",
      "metadata": {
        "id": "8VCjCo2SmZ-d",
        "outputId": "ec268f1c-d665-40d0-b75b-5eb44227965c",
        "colab": {
          "base_uri": "https://localhost:8080/"
        }
      },
      "source": [
        "BinaryToDecimal(\"01011100001010001111011\")"
      ],
      "execution_count": 72,
      "outputs": [
        {
          "output_type": "stream",
          "text": [
            "0.0\n",
            "0.25\n",
            "0.25\n",
            "0.3125\n",
            "0.34375\n",
            "0.359375\n",
            "0.359375\n",
            "0.359375\n",
            "0.359375\n",
            "0.359375\n",
            "0.35986328125\n",
            "0.35986328125\n",
            "0.3599853515625\n",
            "0.3599853515625\n",
            "0.3599853515625\n",
            "0.3599853515625\n",
            "0.35999298095703125\n",
            "0.3599967956542969\n",
            "0.3599987030029297\n",
            "0.3599996566772461\n",
            "0.3599996566772461\n",
            "0.3599998950958252\n",
            "0.36000001430511475\n",
            "The decimal value is: 0.36000001430511475\n"
          ],
          "name": "stdout"
        }
      ]
    },
    {
      "cell_type": "code",
      "metadata": {
        "id": "QgzYcDLKm4QC"
      },
      "source": [
        ""
      ],
      "execution_count": 13,
      "outputs": []
    },
    {
      "cell_type": "code",
      "metadata": {
        "id": "Tv7y9kXRm7vn"
      },
      "source": [
        ""
      ],
      "execution_count": null,
      "outputs": []
    }
  ]
}