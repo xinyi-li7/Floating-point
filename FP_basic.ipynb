{
  "nbformat": 4,
  "nbformat_minor": 0,
  "metadata": {
    "colab": {
      "name": "FP_basic.ipynb",
      "provenance": [],
      "authorship_tag": "ABX9TyMJaOr+BPw/F95XJrXXpgw6",
      "include_colab_link": true
    },
    "kernelspec": {
      "name": "python3",
      "display_name": "Python 3"
    },
    "language_info": {
      "name": "python"
    }
  },
  "cells": [
    {
      "cell_type": "markdown",
      "metadata": {
        "id": "view-in-github",
        "colab_type": "text"
      },
      "source": [
        "<a href=\"https://colab.research.google.com/github/xinyi-li7/Floating-point/blob/main/FP_basic.ipynb\" target=\"_parent\"><img src=\"https://colab.research.google.com/assets/colab-badge.svg\" alt=\"Open In Colab\"/></a>"
      ]
    },
    {
      "cell_type": "markdown",
      "metadata": {
        "id": "WFJ5iQGuXdba"
      },
      "source": [
        "## Calculate the rounding error for a real number.\n",
        "Example: The one quadrillion round error. From Section 2 for [Herbie](http://herbie.uwplse.org/pldi15-paper.pdf). "
      ]
    },
    {
      "cell_type": "code",
      "metadata": {
        "id": "W-xmg61oX8iM"
      },
      "source": [
        "import numpy as np\n",
        "x = 10**15 # one quadrillion\n",
        "x_b = np.floor(np.log2(x)) # exponent of binary\n",
        "p = 52 # number of digits in mantissa for double\n",
        "ulp = 2 **(x_b-p) # ulp(x_b, p)"
      ],
      "execution_count": null,
      "outputs": []
    },
    {
      "cell_type": "markdown",
      "metadata": {
        "id": "SExzKUm9p1Et"
      },
      "source": [
        "## Error caused by simple operations"
      ]
    },
    {
      "cell_type": "code",
      "metadata": {
        "id": "6dazIqI0pKDp",
        "colab": {
          "base_uri": "https://localhost:8080/"
        },
        "outputId": "c577cf13-658d-48e6-abcf-8202c9792dec"
      },
      "source": [
        "x = 40012243234534545454575792.1416546546\n",
        "(x+1)-x"
      ],
      "execution_count": null,
      "outputs": [
        {
          "output_type": "execute_result",
          "data": {
            "text/plain": [
              "0.0"
            ]
          },
          "metadata": {
            "tags": []
          },
          "execution_count": 9
        }
      ]
    },
    {
      "cell_type": "markdown",
      "metadata": {
        "id": "ORig_KzMmoV1"
      },
      "source": [
        "## The IEEE binary representation for decimal\n",
        "set `p` as the number of bits for mantissa"
      ]
    },
    {
      "cell_type": "code",
      "metadata": {
        "id": "86x0FK4mpULI",
        "colab": {
          "base_uri": "https://localhost:8080/"
        },
        "outputId": "f6deeb11-dc9c-4961-dc87-2f3a60e455a6"
      },
      "source": [
        "import numpy as np\n",
        "k = 50\n",
        "p = 53"
      ],
      "execution_count": null,
      "outputs": [
        {
          "output_type": "execute_result",
          "data": {
            "text/plain": [
              "1.0"
            ]
          },
          "metadata": {
            "tags": []
          },
          "execution_count": 10
        }
      ]
    },
    {
      "cell_type": "code",
      "metadata": {
        "id": "SMbKf6zopVuX",
        "colab": {
          "base_uri": "https://localhost:8080/"
        },
        "outputId": "14240bc2-c713-4077-abb5-8e354d1efbfc"
      },
      "source": [
        "x = 1/2\n",
        "num = (x)**k\n",
        "exponent = np.floor(np.log2(num)) # exponent for the binary representation\n",
        "\n"
      ],
      "execution_count": null,
      "outputs": [
        {
          "output_type": "execute_result",
          "data": {
            "text/plain": [
              "0.0"
            ]
          },
          "metadata": {
            "tags": []
          },
          "execution_count": 7
        }
      ]
    },
    {
      "cell_type": "code",
      "metadata": {
        "id": "V6TIAIDzpYcH",
        "outputId": "b7e3225f-acfa-4f31-bad2-a17b4160e356",
        "colab": {
          "base_uri": "https://localhost:8080/"
        }
      },
      "source": [
        "2**(-52)"
      ],
      "execution_count": 16,
      "outputs": [
        {
          "output_type": "execute_result",
          "data": {
            "text/plain": [
              "2.220446049250313e-16"
            ]
          },
          "metadata": {
            "tags": []
          },
          "execution_count": 16
        }
      ]
    },
    {
      "cell_type": "code",
      "metadata": {
        "id": "a6MUS178oY8T"
      },
      "source": [
        ""
      ],
      "execution_count": null,
      "outputs": []
    }
  ]
}