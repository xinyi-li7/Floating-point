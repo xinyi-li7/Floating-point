{
  "nbformat": 4,
  "nbformat_minor": 0,
  "metadata": {
    "colab": {
      "name": "FP_basic.ipynb",
      "provenance": [],
      "include_colab_link": true
    },
    "kernelspec": {
      "name": "python3",
      "display_name": "Python 3"
    },
    "language_info": {
      "name": "python"
    }
  },
  "cells": [
    {
      "cell_type": "markdown",
      "metadata": {
        "id": "view-in-github",
        "colab_type": "text"
      },
      "source": [
        "<a href=\"https://colab.research.google.com/github/xinyi-li7/Floating-point/blob/main/FP_basic.ipynb\" target=\"_parent\"><img src=\"https://colab.research.google.com/assets/colab-badge.svg\" alt=\"Open In Colab\"/></a>"
      ]
    },
    {
      "cell_type": "markdown",
      "metadata": {
        "id": "WFJ5iQGuXdba"
      },
      "source": [
        "## Calculate the ulp (rounding error **bounds**) for a real number.\n",
        "Example: The one quadrillion round error. From Section 2 for [Herbie](http://herbie.uwplse.org/pldi15-paper.pdf). "
      ]
    },
    {
      "cell_type": "code",
      "metadata": {
        "id": "W-xmg61oX8iM",
        "colab": {
          "base_uri": "https://localhost:8080/"
        },
        "outputId": "370d8829-3535-4a2d-ed29-fe4ad30dbf99"
      },
      "source": [
        "import numpy as np\n",
        "x = 10**15 # one quadrillion\n",
        "x_b = np.floor(np.log2(x)) # exponent of binary\n",
        "p = 52 # number of digits in mantissa for double\n",
        "ulp = 2 **(x_b-p) # ulp(x_b, p)\n",
        "ulp"
      ],
      "execution_count": 2,
      "outputs": [
        {
          "output_type": "execute_result",
          "data": {
            "text/plain": [
              "0.125"
            ]
          },
          "metadata": {
            "tags": []
          },
          "execution_count": 2
        }
      ]
    },
    {
      "cell_type": "markdown",
      "metadata": {
        "id": "SExzKUm9p1Et"
      },
      "source": [
        "## Error caused by simple operations"
      ]
    },
    {
      "cell_type": "code",
      "metadata": {
        "id": "6dazIqI0pKDp",
        "colab": {
          "base_uri": "https://localhost:8080/"
        },
        "outputId": "c577cf13-658d-48e6-abcf-8202c9792dec"
      },
      "source": [
        "x = 40012243234534545454575792.1416546546\n",
        "(x+1)-x"
      ],
      "execution_count": null,
      "outputs": [
        {
          "output_type": "execute_result",
          "data": {
            "text/plain": [
              "0.0"
            ]
          },
          "metadata": {
            "tags": []
          },
          "execution_count": 9
        }
      ]
    },
    {
      "cell_type": "markdown",
      "metadata": {
        "id": "ORig_KzMmoV1"
      },
      "source": [
        "## The IEEE binary representation for decimal"
      ]
    },
    {
      "cell_type": "code",
      "metadata": {
        "id": "Qn0Rf0WZEBRt"
      },
      "source": [
        "def dec2IEEE(num):\n",
        "  exponent = np.floor(np.log2(num)) # exponent for the binary representation\n",
        "  mantissa = num / (2**exponent) "
      ],
      "execution_count": 16,
      "outputs": []
    },
    {
      "cell_type": "markdown",
      "metadata": {
        "id": "sIC3xDRcDLSt"
      },
      "source": [
        "Transfer the exponent and mantissa to binary will result in the IEEE binary representation. \n",
        "\n"
      ]
    },
    {
      "cell_type": "markdown",
      "metadata": {
        "id": "AtVRBGhzECe7"
      },
      "source": [
        "## How addition ruin the result\n",
        "set `p` as the number of bits for mantissa"
      ]
    },
    {
      "cell_type": "code",
      "metadata": {
        "id": "86x0FK4mpULI"
      },
      "source": [
        "import numpy as np\n",
        "k_53 = 53\n",
        "k_51 = 51\n",
        "p = 52 # Here just the bits used for mantissa"
      ],
      "execution_count": 26,
      "outputs": []
    },
    {
      "cell_type": "code",
      "metadata": {
        "id": "SMbKf6zopVuX",
        "colab": {
          "base_uri": "https://localhost:8080/"
        },
        "outputId": "f52943ca-a266-4f29-bc1a-0910f7701d30"
      },
      "source": [
        "x = 1/2\n",
        "num_53 = (x)**k_53\n",
        "num_51 = (x)**k_51\n",
        "num_p = (x)**p\n",
        "print(\"num_53 = \", num_53)\n",
        "print(\"num_51 = \", num_51)\n",
        "print(\"num_p = \", num_p)\n"
      ],
      "execution_count": 27,
      "outputs": [
        {
          "output_type": "stream",
          "text": [
            "num_53 =  1.1102230246251565e-16\n",
            "num_51 =  4.440892098500626e-16\n",
            "num_p =  2.220446049250313e-16\n"
          ],
          "name": "stdout"
        }
      ]
    },
    {
      "cell_type": "code",
      "metadata": {
        "id": "dC-qxhNdDY1k",
        "outputId": "af1cfc17-ad42-4f4a-9f29-2d9605e99377",
        "colab": {
          "base_uri": "https://localhost:8080/"
        }
      },
      "source": [
        "print(\"num_53 + 1 = \", num_53+1)\n",
        "print(\"num_51 + 1 = \", num_51+1)\n",
        "print(\"num_p+1 = \", num_p+1)"
      ],
      "execution_count": 28,
      "outputs": [
        {
          "output_type": "stream",
          "text": [
            "num_53 + 1 =  1.0\n",
            "num_51 + 1 =  1.0000000000000004\n",
            "num_p+1 =  1.0000000000000002\n"
          ],
          "name": "stdout"
        }
      ]
    },
    {
      "cell_type": "markdown",
      "metadata": {
        "id": "U55XhFeZGe_O"
      },
      "source": [
        "The problem here is: if the exponent is larger than `p=52`, after adding 1, `num` will disapper. This caused by the ***alignment of exponent*** when adding two binary values. "
      ]
    },
    {
      "cell_type": "code",
      "metadata": {
        "id": "kIZeL3ZZHk2U"
      },
      "source": [
        ""
      ],
      "execution_count": null,
      "outputs": []
    }
  ]
}