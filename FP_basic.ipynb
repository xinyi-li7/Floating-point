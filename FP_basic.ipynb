{
  "nbformat": 4,
  "nbformat_minor": 0,
  "metadata": {
    "colab": {
      "name": "FP_basic.ipynb",
      "provenance": [],
      "authorship_tag": "ABX9TyN5u0d4eO2JOOlQIhD7RU1G",
      "include_colab_link": true
    },
    "kernelspec": {
      "name": "python3",
      "display_name": "Python 3"
    },
    "language_info": {
      "name": "python"
    }
  },
  "cells": [
    {
      "cell_type": "markdown",
      "metadata": {
        "id": "view-in-github",
        "colab_type": "text"
      },
      "source": [
        "<a href=\"https://colab.research.google.com/github/xinyi-li7/Floating-point/blob/main/FP_basic.ipynb\" target=\"_parent\"><img src=\"https://colab.research.google.com/assets/colab-badge.svg\" alt=\"Open In Colab\"/></a>"
      ]
    },
    {
      "cell_type": "markdown",
      "metadata": {
        "id": "WFJ5iQGuXdba"
      },
      "source": [
        "## Calculate the rounding error for a real number.\n",
        "Example: The one quadrillion round error. From Section 2 for [Herbie](http://herbie.uwplse.org/pldi15-paper.pdf). "
      ]
    },
    {
      "cell_type": "code",
      "metadata": {
        "id": "W-xmg61oX8iM"
      },
      "source": [
        "import numpy as np\n",
        "x = 10**15 # one quadrillion\n",
        "x_b = np.floor(np.log2(x)) # exponent of binary\n",
        "p = 52 # number of digits in mantissa for double\n",
        "ulp = 2 **(x_b-p) # ulp(x_b, p)"
      ],
      "execution_count": null,
      "outputs": []
    }
  ]
}